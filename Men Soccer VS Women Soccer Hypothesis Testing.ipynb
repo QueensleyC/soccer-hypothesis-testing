{
 "cells": [
  {
   "cell_type": "markdown",
   "id": "2be87c78",
   "metadata": {},
   "source": [
    "# A Statistical Look at Goals in Football\n",
    "\n",
    "This analysis investigates whether more goals are scored in women's or men's international football matches. To ensure a focused comparison, I only considered official FIFA World Cup matches (excluding qualifiers) from 2002 onwards, keeping the data tidy and the analysis on target!\n",
    "\n",
    "The question:\n",
    "\n",
    "> Are more goals scored in women's international soccer matches than men's?\n",
    "\n",
    "Using a significance level of **10% significance level**, and the following null and alternative hypotheses:\n",
    "\n",
    "$H_0$ : The mean number of goals scored in women's international soccer matches is the same as men's.\n",
    "\n",
    "$H_A$ : The mean number of goals scored in women's international soccer matches is greater than men's.\n"
   ]
  },
  {
   "cell_type": "markdown",
   "id": "d1b953a5",
   "metadata": {},
   "source": [
    "![soccer image](soccer_image.jpg)"
   ]
  },
  {
   "cell_type": "code",
   "execution_count": 2,
   "id": "828b0e59",
   "metadata": {},
   "outputs": [],
   "source": [
    "# Imports\n",
    "import pandas as pd\n",
    "import matplotlib.pyplot as plt\n",
    "from scipy.stats import mannwhitneyu"
   ]
  },
  {
   "cell_type": "code",
   "execution_count": 3,
   "id": "7b2caff8",
   "metadata": {},
   "outputs": [],
   "source": [
    "# Load men's and women's datasets\n",
    "men = pd.read_csv(\"men_results.csv\")\n",
    "women = pd.read_csv(\"women_results.csv\")"
   ]
  },
  {
   "cell_type": "code",
   "execution_count": 11,
   "id": "afc0c49e",
   "metadata": {},
   "outputs": [
    {
     "data": {
      "text/plain": [
       "Unnamed: 0    0\n",
       "date          0\n",
       "home_team     0\n",
       "away_team     0\n",
       "home_score    0\n",
       "away_score    0\n",
       "tournament    0\n",
       "dtype: int64"
      ]
     },
     "execution_count": 11,
     "metadata": {},
     "output_type": "execute_result"
    }
   ],
   "source": [
    "# Check for null values\n",
    "men.isna().sum()"
   ]
  },
  {
   "cell_type": "code",
   "execution_count": 12,
   "id": "8e72c68b",
   "metadata": {},
   "outputs": [
    {
     "data": {
      "text/plain": [
       "Unnamed: 0    0\n",
       "date          0\n",
       "home_team     0\n",
       "away_team     0\n",
       "home_score    0\n",
       "away_score    0\n",
       "tournament    0\n",
       "dtype: int64"
      ]
     },
     "execution_count": 12,
     "metadata": {},
     "output_type": "execute_result"
    }
   ],
   "source": [
    "# Check for nulls\n",
    "women.isnull().sum()"
   ]
  },
  {
   "cell_type": "code",
   "execution_count": 10,
   "id": "52f84f17",
   "metadata": {},
   "outputs": [
    {
     "data": {
      "text/html": [
       "<div>\n",
       "<style scoped>\n",
       "    .dataframe tbody tr th:only-of-type {\n",
       "        vertical-align: middle;\n",
       "    }\n",
       "\n",
       "    .dataframe tbody tr th {\n",
       "        vertical-align: top;\n",
       "    }\n",
       "\n",
       "    .dataframe thead th {\n",
       "        text-align: right;\n",
       "    }\n",
       "</style>\n",
       "<table border=\"1\" class=\"dataframe\">\n",
       "  <thead>\n",
       "    <tr style=\"text-align: right;\">\n",
       "      <th></th>\n",
       "      <th>Unnamed: 0</th>\n",
       "      <th>date</th>\n",
       "      <th>home_team</th>\n",
       "      <th>away_team</th>\n",
       "      <th>home_score</th>\n",
       "      <th>away_score</th>\n",
       "      <th>tournament</th>\n",
       "    </tr>\n",
       "  </thead>\n",
       "  <tbody>\n",
       "    <tr>\n",
       "      <th>0</th>\n",
       "      <td>0</td>\n",
       "      <td>1872-11-30</td>\n",
       "      <td>Scotland</td>\n",
       "      <td>England</td>\n",
       "      <td>0</td>\n",
       "      <td>0</td>\n",
       "      <td>Friendly</td>\n",
       "    </tr>\n",
       "    <tr>\n",
       "      <th>1</th>\n",
       "      <td>1</td>\n",
       "      <td>1873-03-08</td>\n",
       "      <td>England</td>\n",
       "      <td>Scotland</td>\n",
       "      <td>4</td>\n",
       "      <td>2</td>\n",
       "      <td>Friendly</td>\n",
       "    </tr>\n",
       "    <tr>\n",
       "      <th>2</th>\n",
       "      <td>2</td>\n",
       "      <td>1874-03-07</td>\n",
       "      <td>Scotland</td>\n",
       "      <td>England</td>\n",
       "      <td>2</td>\n",
       "      <td>1</td>\n",
       "      <td>Friendly</td>\n",
       "    </tr>\n",
       "    <tr>\n",
       "      <th>3</th>\n",
       "      <td>3</td>\n",
       "      <td>1875-03-06</td>\n",
       "      <td>England</td>\n",
       "      <td>Scotland</td>\n",
       "      <td>2</td>\n",
       "      <td>2</td>\n",
       "      <td>Friendly</td>\n",
       "    </tr>\n",
       "    <tr>\n",
       "      <th>4</th>\n",
       "      <td>4</td>\n",
       "      <td>1876-03-04</td>\n",
       "      <td>Scotland</td>\n",
       "      <td>England</td>\n",
       "      <td>3</td>\n",
       "      <td>0</td>\n",
       "      <td>Friendly</td>\n",
       "    </tr>\n",
       "  </tbody>\n",
       "</table>\n",
       "</div>"
      ],
      "text/plain": [
       "   Unnamed: 0       date home_team away_team  home_score  away_score  \\\n",
       "0           0 1872-11-30  Scotland   England           0           0   \n",
       "1           1 1873-03-08   England  Scotland           4           2   \n",
       "2           2 1874-03-07  Scotland   England           2           1   \n",
       "3           3 1875-03-06   England  Scotland           2           2   \n",
       "4           4 1876-03-04  Scotland   England           3           0   \n",
       "\n",
       "  tournament  \n",
       "0   Friendly  \n",
       "1   Friendly  \n",
       "2   Friendly  \n",
       "3   Friendly  \n",
       "4   Friendly  "
      ]
     },
     "execution_count": 10,
     "metadata": {},
     "output_type": "execute_result"
    }
   ],
   "source": [
    "men.head()"
   ]
  },
  {
   "cell_type": "code",
   "execution_count": 13,
   "id": "769a48a7",
   "metadata": {},
   "outputs": [
    {
     "data": {
      "text/html": [
       "<div>\n",
       "<style scoped>\n",
       "    .dataframe tbody tr th:only-of-type {\n",
       "        vertical-align: middle;\n",
       "    }\n",
       "\n",
       "    .dataframe tbody tr th {\n",
       "        vertical-align: top;\n",
       "    }\n",
       "\n",
       "    .dataframe thead th {\n",
       "        text-align: right;\n",
       "    }\n",
       "</style>\n",
       "<table border=\"1\" class=\"dataframe\">\n",
       "  <thead>\n",
       "    <tr style=\"text-align: right;\">\n",
       "      <th></th>\n",
       "      <th>Unnamed: 0</th>\n",
       "      <th>date</th>\n",
       "      <th>home_team</th>\n",
       "      <th>away_team</th>\n",
       "      <th>home_score</th>\n",
       "      <th>away_score</th>\n",
       "      <th>tournament</th>\n",
       "    </tr>\n",
       "  </thead>\n",
       "  <tbody>\n",
       "    <tr>\n",
       "      <th>0</th>\n",
       "      <td>0</td>\n",
       "      <td>1969-11-01</td>\n",
       "      <td>Italy</td>\n",
       "      <td>France</td>\n",
       "      <td>1</td>\n",
       "      <td>0</td>\n",
       "      <td>Euro</td>\n",
       "    </tr>\n",
       "    <tr>\n",
       "      <th>1</th>\n",
       "      <td>1</td>\n",
       "      <td>1969-11-01</td>\n",
       "      <td>Denmark</td>\n",
       "      <td>England</td>\n",
       "      <td>4</td>\n",
       "      <td>3</td>\n",
       "      <td>Euro</td>\n",
       "    </tr>\n",
       "    <tr>\n",
       "      <th>2</th>\n",
       "      <td>2</td>\n",
       "      <td>1969-11-02</td>\n",
       "      <td>England</td>\n",
       "      <td>France</td>\n",
       "      <td>2</td>\n",
       "      <td>0</td>\n",
       "      <td>Euro</td>\n",
       "    </tr>\n",
       "    <tr>\n",
       "      <th>3</th>\n",
       "      <td>3</td>\n",
       "      <td>1969-11-02</td>\n",
       "      <td>Italy</td>\n",
       "      <td>Denmark</td>\n",
       "      <td>3</td>\n",
       "      <td>1</td>\n",
       "      <td>Euro</td>\n",
       "    </tr>\n",
       "    <tr>\n",
       "      <th>4</th>\n",
       "      <td>4</td>\n",
       "      <td>1975-08-25</td>\n",
       "      <td>Thailand</td>\n",
       "      <td>Australia</td>\n",
       "      <td>3</td>\n",
       "      <td>2</td>\n",
       "      <td>AFC Championship</td>\n",
       "    </tr>\n",
       "  </tbody>\n",
       "</table>\n",
       "</div>"
      ],
      "text/plain": [
       "   Unnamed: 0       date home_team  away_team  home_score  away_score  \\\n",
       "0           0 1969-11-01     Italy     France           1           0   \n",
       "1           1 1969-11-01   Denmark    England           4           3   \n",
       "2           2 1969-11-02   England     France           2           0   \n",
       "3           3 1969-11-02     Italy    Denmark           3           1   \n",
       "4           4 1975-08-25  Thailand  Australia           3           2   \n",
       "\n",
       "         tournament  \n",
       "0              Euro  \n",
       "1              Euro  \n",
       "2              Euro  \n",
       "3              Euro  \n",
       "4  AFC Championship  "
      ]
     },
     "execution_count": 13,
     "metadata": {},
     "output_type": "execute_result"
    }
   ],
   "source": [
    "women.head()"
   ]
  },
  {
   "cell_type": "code",
   "execution_count": 18,
   "id": "70169fc4",
   "metadata": {},
   "outputs": [],
   "source": [
    "# Filter the data for the time range and tournament\n",
    "men[\"date\"] = pd.to_datetime(men[\"date\"])\n",
    "men_subset = men[(men[\"date\"] >= \"2002-01-01\") & (men[\"tournament\"].isin([\"FIFA World Cup\"]))]\n",
    "women[\"date\"] = pd.to_datetime(women[\"date\"])\n",
    "women_subset = women[(women[\"date\"] >= \"2002-01-01\") & (women[\"tournament\"].isin([\"FIFA World Cup\"]))]"
   ]
  },
  {
   "cell_type": "code",
   "execution_count": 21,
   "id": "2a096c62",
   "metadata": {},
   "outputs": [
    {
     "name": "stderr",
     "output_type": "stream",
     "text": [
      "C:\\Users\\Eby\\AppData\\Local\\Temp\\ipykernel_3888\\3025180459.py:2: SettingWithCopyWarning: \n",
      "A value is trying to be set on a copy of a slice from a DataFrame.\n",
      "Try using .loc[row_indexer,col_indexer] = value instead\n",
      "\n",
      "See the caveats in the documentation: https://pandas.pydata.org/pandas-docs/stable/user_guide/indexing.html#returning-a-view-versus-a-copy\n",
      "  men_subset[\"group\"] = \"men\"\n",
      "C:\\Users\\Eby\\AppData\\Local\\Temp\\ipykernel_3888\\3025180459.py:3: SettingWithCopyWarning: \n",
      "A value is trying to be set on a copy of a slice from a DataFrame.\n",
      "Try using .loc[row_indexer,col_indexer] = value instead\n",
      "\n",
      "See the caveats in the documentation: https://pandas.pydata.org/pandas-docs/stable/user_guide/indexing.html#returning-a-view-versus-a-copy\n",
      "  women_subset[\"group\"] = \"women\"\n",
      "C:\\Users\\Eby\\AppData\\Local\\Temp\\ipykernel_3888\\3025180459.py:4: SettingWithCopyWarning: \n",
      "A value is trying to be set on a copy of a slice from a DataFrame.\n",
      "Try using .loc[row_indexer,col_indexer] = value instead\n",
      "\n",
      "See the caveats in the documentation: https://pandas.pydata.org/pandas-docs/stable/user_guide/indexing.html#returning-a-view-versus-a-copy\n",
      "  men_subset[\"goals_scored\"] = men_subset[\"home_score\"] + men_subset[\"away_score\"]\n",
      "C:\\Users\\Eby\\AppData\\Local\\Temp\\ipykernel_3888\\3025180459.py:5: SettingWithCopyWarning: \n",
      "A value is trying to be set on a copy of a slice from a DataFrame.\n",
      "Try using .loc[row_indexer,col_indexer] = value instead\n",
      "\n",
      "See the caveats in the documentation: https://pandas.pydata.org/pandas-docs/stable/user_guide/indexing.html#returning-a-view-versus-a-copy\n",
      "  women_subset[\"goals_scored\"] = women_subset[\"home_score\"] + women_subset[\"away_score\"]\n"
     ]
    }
   ],
   "source": [
    "# Create group and goals_scored columns\n",
    "men_subset[\"group\"] = \"men\"\n",
    "women_subset[\"group\"] = \"women\"\n",
    "men_subset[\"goals_scored\"] = men_subset[\"home_score\"] + men_subset[\"away_score\"]\n",
    "women_subset[\"goals_scored\"] = women_subset[\"home_score\"] + women_subset[\"away_score\"]"
   ]
  },
  {
   "cell_type": "code",
   "execution_count": 22,
   "id": "6bee18ac",
   "metadata": {},
   "outputs": [
    {
     "data": {
      "text/html": [
       "<div>\n",
       "<style scoped>\n",
       "    .dataframe tbody tr th:only-of-type {\n",
       "        vertical-align: middle;\n",
       "    }\n",
       "\n",
       "    .dataframe tbody tr th {\n",
       "        vertical-align: top;\n",
       "    }\n",
       "\n",
       "    .dataframe thead th {\n",
       "        text-align: right;\n",
       "    }\n",
       "</style>\n",
       "<table border=\"1\" class=\"dataframe\">\n",
       "  <thead>\n",
       "    <tr style=\"text-align: right;\">\n",
       "      <th></th>\n",
       "      <th>Unnamed: 0</th>\n",
       "      <th>date</th>\n",
       "      <th>home_team</th>\n",
       "      <th>away_team</th>\n",
       "      <th>home_score</th>\n",
       "      <th>away_score</th>\n",
       "      <th>tournament</th>\n",
       "      <th>group</th>\n",
       "      <th>goals_scored</th>\n",
       "    </tr>\n",
       "  </thead>\n",
       "  <tbody>\n",
       "    <tr>\n",
       "      <th>25164</th>\n",
       "      <td>25164</td>\n",
       "      <td>2002-05-31</td>\n",
       "      <td>France</td>\n",
       "      <td>Senegal</td>\n",
       "      <td>0</td>\n",
       "      <td>1</td>\n",
       "      <td>FIFA World Cup</td>\n",
       "      <td>men</td>\n",
       "      <td>1</td>\n",
       "    </tr>\n",
       "    <tr>\n",
       "      <th>25165</th>\n",
       "      <td>25165</td>\n",
       "      <td>2002-06-01</td>\n",
       "      <td>Germany</td>\n",
       "      <td>Saudi Arabia</td>\n",
       "      <td>8</td>\n",
       "      <td>0</td>\n",
       "      <td>FIFA World Cup</td>\n",
       "      <td>men</td>\n",
       "      <td>8</td>\n",
       "    </tr>\n",
       "    <tr>\n",
       "      <th>25166</th>\n",
       "      <td>25166</td>\n",
       "      <td>2002-06-01</td>\n",
       "      <td>Republic of Ireland</td>\n",
       "      <td>Cameroon</td>\n",
       "      <td>1</td>\n",
       "      <td>1</td>\n",
       "      <td>FIFA World Cup</td>\n",
       "      <td>men</td>\n",
       "      <td>2</td>\n",
       "    </tr>\n",
       "    <tr>\n",
       "      <th>25167</th>\n",
       "      <td>25167</td>\n",
       "      <td>2002-06-01</td>\n",
       "      <td>Uruguay</td>\n",
       "      <td>Denmark</td>\n",
       "      <td>1</td>\n",
       "      <td>2</td>\n",
       "      <td>FIFA World Cup</td>\n",
       "      <td>men</td>\n",
       "      <td>3</td>\n",
       "    </tr>\n",
       "    <tr>\n",
       "      <th>25168</th>\n",
       "      <td>25168</td>\n",
       "      <td>2002-06-02</td>\n",
       "      <td>Argentina</td>\n",
       "      <td>Nigeria</td>\n",
       "      <td>1</td>\n",
       "      <td>0</td>\n",
       "      <td>FIFA World Cup</td>\n",
       "      <td>men</td>\n",
       "      <td>1</td>\n",
       "    </tr>\n",
       "    <tr>\n",
       "      <th>...</th>\n",
       "      <td>...</td>\n",
       "      <td>...</td>\n",
       "      <td>...</td>\n",
       "      <td>...</td>\n",
       "      <td>...</td>\n",
       "      <td>...</td>\n",
       "      <td>...</td>\n",
       "      <td>...</td>\n",
       "      <td>...</td>\n",
       "    </tr>\n",
       "    <tr>\n",
       "      <th>44343</th>\n",
       "      <td>44343</td>\n",
       "      <td>2022-12-10</td>\n",
       "      <td>England</td>\n",
       "      <td>France</td>\n",
       "      <td>1</td>\n",
       "      <td>2</td>\n",
       "      <td>FIFA World Cup</td>\n",
       "      <td>men</td>\n",
       "      <td>3</td>\n",
       "    </tr>\n",
       "    <tr>\n",
       "      <th>44345</th>\n",
       "      <td>44345</td>\n",
       "      <td>2022-12-13</td>\n",
       "      <td>Argentina</td>\n",
       "      <td>Croatia</td>\n",
       "      <td>3</td>\n",
       "      <td>0</td>\n",
       "      <td>FIFA World Cup</td>\n",
       "      <td>men</td>\n",
       "      <td>3</td>\n",
       "    </tr>\n",
       "    <tr>\n",
       "      <th>44346</th>\n",
       "      <td>44346</td>\n",
       "      <td>2022-12-14</td>\n",
       "      <td>France</td>\n",
       "      <td>Morocco</td>\n",
       "      <td>2</td>\n",
       "      <td>0</td>\n",
       "      <td>FIFA World Cup</td>\n",
       "      <td>men</td>\n",
       "      <td>2</td>\n",
       "    </tr>\n",
       "    <tr>\n",
       "      <th>44350</th>\n",
       "      <td>44350</td>\n",
       "      <td>2022-12-17</td>\n",
       "      <td>Croatia</td>\n",
       "      <td>Morocco</td>\n",
       "      <td>2</td>\n",
       "      <td>1</td>\n",
       "      <td>FIFA World Cup</td>\n",
       "      <td>men</td>\n",
       "      <td>3</td>\n",
       "    </tr>\n",
       "    <tr>\n",
       "      <th>44352</th>\n",
       "      <td>44352</td>\n",
       "      <td>2022-12-18</td>\n",
       "      <td>Argentina</td>\n",
       "      <td>France</td>\n",
       "      <td>3</td>\n",
       "      <td>3</td>\n",
       "      <td>FIFA World Cup</td>\n",
       "      <td>men</td>\n",
       "      <td>6</td>\n",
       "    </tr>\n",
       "  </tbody>\n",
       "</table>\n",
       "<p>384 rows × 9 columns</p>\n",
       "</div>"
      ],
      "text/plain": [
       "       Unnamed: 0       date            home_team     away_team  home_score  \\\n",
       "25164       25164 2002-05-31               France       Senegal           0   \n",
       "25165       25165 2002-06-01              Germany  Saudi Arabia           8   \n",
       "25166       25166 2002-06-01  Republic of Ireland      Cameroon           1   \n",
       "25167       25167 2002-06-01              Uruguay       Denmark           1   \n",
       "25168       25168 2002-06-02            Argentina       Nigeria           1   \n",
       "...           ...        ...                  ...           ...         ...   \n",
       "44343       44343 2022-12-10              England        France           1   \n",
       "44345       44345 2022-12-13            Argentina       Croatia           3   \n",
       "44346       44346 2022-12-14               France       Morocco           2   \n",
       "44350       44350 2022-12-17              Croatia       Morocco           2   \n",
       "44352       44352 2022-12-18            Argentina        France           3   \n",
       "\n",
       "       away_score      tournament group  goals_scored  \n",
       "25164           1  FIFA World Cup   men             1  \n",
       "25165           0  FIFA World Cup   men             8  \n",
       "25166           1  FIFA World Cup   men             2  \n",
       "25167           2  FIFA World Cup   men             3  \n",
       "25168           0  FIFA World Cup   men             1  \n",
       "...           ...             ...   ...           ...  \n",
       "44343           2  FIFA World Cup   men             3  \n",
       "44345           0  FIFA World Cup   men             3  \n",
       "44346           0  FIFA World Cup   men             2  \n",
       "44350           1  FIFA World Cup   men             3  \n",
       "44352           3  FIFA World Cup   men             6  \n",
       "\n",
       "[384 rows x 9 columns]"
      ]
     },
     "execution_count": 22,
     "metadata": {},
     "output_type": "execute_result"
    }
   ],
   "source": [
    "men_subset"
   ]
  },
  {
   "cell_type": "markdown",
   "id": "41b69975",
   "metadata": {},
   "source": [
    "### Determine normality using histograms"
   ]
  },
  {
   "cell_type": "code",
   "execution_count": 23,
   "id": "84bbaed2",
   "metadata": {},
   "outputs": [
    {
     "data": {
      "image/png": "[encoded data removed]",
      "text/plain": [
       "<Figure size 640x480 with 1 Axes>"
      ]
     },
     "metadata": {},
     "output_type": "display_data"
    }
   ],
   "source": [
    "men_subset[\"goals_scored\"].hist()\n",
    "plt.show()"
   ]
  },
  {
   "cell_type": "code",
   "execution_count": 25,
   "id": "8778bbbc",
   "metadata": {},
   "outputs": [
    {
     "data": {
      "image/png": "[encoded data removed]",
      "text/plain": [
       "<Figure size 640x480 with 1 Axes>"
      ]
     },
     "metadata": {},
     "output_type": "display_data"
    }
   ],
   "source": [
    "women_subset[\"goals_scored\"].hist()\n",
    "plt.show()"
   ]
  },
  {
   "cell_type": "markdown",
   "id": "68ab97db",
   "metadata": {},
   "source": [
    "__Goals scored is not normally distributed, so use Wilcoxon-Mann-Whitney test of two groups__"
   ]
  },
  {
   "cell_type": "code",
   "execution_count": 28,
   "id": "bb77f49b",
   "metadata": {},
   "outputs": [],
   "source": [
    "# Perform right-tailed Wilcoxon-Mann-Whitney test with scipy\n",
    "results_scipy = mannwhitneyu(x=women_subset[\"goals_scored\"],\n",
    "                             y=men_subset[\"goals_scored\"],\n",
    "                             alternative=\"greater\")"
   ]
  },
  {
   "cell_type": "code",
   "execution_count": 33,
   "id": "eb9c5aa8",
   "metadata": {},
   "outputs": [],
   "source": [
    "# Extract p-value as a float\n",
    "p_val = round(results_scipy[1],4)"
   ]
  },
  {
   "cell_type": "code",
   "execution_count": 38,
   "id": "74e2144e",
   "metadata": {},
   "outputs": [
    {
     "name": "stdout",
     "output_type": "stream",
     "text": [
      "p_val : 0.0051\n",
      "decision : reject null hypothesis\n"
     ]
    }
   ],
   "source": [
    "# Determine hypothesis test result using sig. level\n",
    "if p_val <= 0.01:\n",
    "    decision = \"reject null hypothesis\"\n",
    "else:\n",
    "    decision = \"fail to reject null hypothesis\"\n",
    "\n",
    "result_dict = {\"p_val\": p_val, \"decision\": decision}\n",
    "\n",
    "for key, value in result_dict.items():\n",
    "    print(key, \":\", value)"
   ]
  },
  {
   "cell_type": "markdown",
   "id": "3f7f0ece",
   "metadata": {},
   "source": [
    "---\n",
    "\n",
    "## Conclusion\n",
    "Based on your data and chosen significance level, there exists enough evidence to reject $H_0$ and conclude that the mean number of goals scored in women's international soccer matches is greater than in men's matches."
   ]
  }
 ],
 "metadata": {
  "kernelspec": {
   "display_name": "Python 3 (ipykernel)",
   "language": "python",
   "name": "python3"
  },
  "language_info": {
   "codemirror_mode": {
    "name": "ipython",
    "version": 3
   },
   "file_extension": ".py",
   "mimetype": "text/x-python",
   "name": "python",
   "nbconvert_exporter": "python",
   "pygments_lexer": "ipython3",
   "version": "3.10.9"
  }
 },
 "nbformat": 4,
 "nbformat_minor": 5
}
